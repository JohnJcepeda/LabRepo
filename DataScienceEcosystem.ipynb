{
 "cells": [
  {
   "cell_type": "markdown",
   "id": "0f273e62-8074-4c7b-be7c-2dafff25215d",
   "metadata": {},
   "source": [
    "# Data Science Tools and Ecosystem #"
   ]
  },
  {
   "cell_type": "markdown",
   "id": "3e1a8d94-4838-4344-bf73-a3aab1c58a9d",
   "metadata": {},
   "source": [
    "This notebook contains a brief overview of data science tools and ecosystem."
   ]
  },
  {
   "cell_type": "markdown",
   "id": "b36b5772-acb7-4921-b3e2-efc96802bd62",
   "metadata": {},
   "source": [
    "Some of the popular languages that Data Scientists use are:\n",
    "\n",
    "1. Python\n",
    "2. R\n",
    "3. SQL\n",
    "4. JavaScript\n",
    "5. Scala\n",
    "6. Julia"
   ]
  },
  {
   "cell_type": "markdown",
   "id": "fd2a0bb2-b9e0-4d16-b182-f8f42c8fe354",
   "metadata": {},
   "source": [
    "Some of the commonly used libraries used by Data Scientists include:\n",
    "\n",
    "1. NumPy\n",
    "2. Pandas\n",
    "3. Sklearn\n",
    "4. Matplotlib\n",
    "5. TensorFlow"
   ]
  },
  {
   "cell_type": "markdown",
   "id": "e4a0f263-7a60-4931-8538-84fc94bfaacd",
   "metadata": {},
   "source": [
    "|Data Science Tools|\n",
    "|-----------------|\n",
    "| Jupyter Notebook |\n",
    "| RStudio |\n",
    "| Visual Studio Code |"
   ]
  },
  {
   "cell_type": "markdown",
   "id": "9a2d86fd-ec08-4d3c-b8f4-5c4a601638af",
   "metadata": {},
   "source": [
    "### Below are a few examples of evaluating arithmetic expressions in Python ###"
   ]
  },
  {
   "cell_type": "code",
   "execution_count": 2,
   "id": "dc9aca5b-1f5b-4547-a81c-844821c78956",
   "metadata": {},
   "outputs": [
    {
     "data": {
      "text/plain": [
       "17"
      ]
     },
     "execution_count": 2,
     "metadata": {},
     "output_type": "execute_result"
    }
   ],
   "source": [
    "(3*4)+5  #This a simple arithmetic expression to mutiply then add integers"
   ]
  },
  {
   "cell_type": "code",
   "execution_count": null,
   "id": "efcc86f1-4661-4b8d-8967-4262eabcbd23",
   "metadata": {},
   "outputs": [],
   "source": []
  },
  {
   "cell_type": "code",
   "execution_count": 22,
   "id": "2b15520b-6819-4143-b7eb-22c20ef6d1cd",
   "metadata": {},
   "outputs": [
    {
     "name": "stdout",
     "output_type": "stream",
     "text": [
      "hours: 3\n",
      "minutes: 20\n"
     ]
    }
   ],
   "source": [
    " #This will convert 200 minutes to hours by diving by 60\n",
    "a= int(200/60)\n",
    "b= (200%60)\n",
    "print (\"hours:\", a)\n",
    "print (\"minutes:\", b)"
   ]
  },
  {
   "cell_type": "markdown",
   "id": "6851105b-f11e-4704-8684-0811bc732739",
   "metadata": {},
   "source": [
    "**Objectives:**\n",
    "- List of the popular languages that Data Science.\n",
    "- Commonly used libraries used by Data Scientists.\n",
    "- Some of the Data Science tools.\n"
   ]
  },
  {
   "cell_type": "markdown",
   "id": "abaccb68-77e2-41b3-bf4a-3c5e511900fa",
   "metadata": {},
   "source": [
    "## Author: ##\n",
    "John Cepeda"
   ]
  },
  {
   "cell_type": "code",
   "execution_count": null,
   "id": "123c483d-674b-4f2e-9912-351cc6f4d0c9",
   "metadata": {},
   "outputs": [],
   "source": []
  }
 ],
 "metadata": {
  "kernelspec": {
   "display_name": "Python 3 (ipykernel)",
   "language": "python",
   "name": "python3"
  },
  "language_info": {
   "codemirror_mode": {
    "name": "ipython",
    "version": 3
   },
   "file_extension": ".py",
   "mimetype": "text/x-python",
   "name": "python",
   "nbconvert_exporter": "python",
   "pygments_lexer": "ipython3",
   "version": "3.12.2"
  }
 },
 "nbformat": 4,
 "nbformat_minor": 5
}
